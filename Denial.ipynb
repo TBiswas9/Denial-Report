{
 "cells": [
  {
   "cell_type": "code",
   "execution_count": 48,
   "metadata": {},
   "outputs": [
    {
     "name": "stderr",
     "output_type": "stream",
     "text": [
      "C:\\Users\\tinku.biswas\\AppData\\Local\\Temp\\ipykernel_14784\\4063288783.py:4: DtypeWarning: Columns (20,28,29) have mixed types. Specify dtype option on import or set low_memory=False.\n",
      "  pay = pd.read_csv(r\"G:\\My Drive\\1. My Account\\Palomar\\Payment.CSV\")\n"
     ]
    }
   ],
   "source": [
    "import pandas as pd\n",
    "import numpy as np\n",
    "pd.set_option('display.max_columns',None)\n",
    "pay = pd.read_csv(r\"G:\\My Drive\\1. My Account\\Palomar\\Payment.CSV\")\n",
    "\n",
    "col = ['Prac Name', 'Loc Name', 'Post Date','E/I/A/B','Billed Amt','Pay Amt',\n",
    "       'Source','Dt of Svc', 'CPT4','Payer Name', 'Fin Class','Rendering','Rsn Cds/Remarks']\n",
    "filtered = pay[col]\n",
    "filtered = filtered[filtered['Prac Name']!='Graybill Medical Group Inc']\n",
    "\n",
    "amt = ['Billed Amt','Pay Amt']\n",
    "filtered  = filtered.copy()\n",
    "for a in amt:\n",
    "    filtered[a] = filtered.loc[:,a].str.replace(\n",
    "    '$', \"\", regex=False)\\\n",
    "        .str.replace('(', \"-\", regex=False)\\\n",
    "            .str.replace(')', \"\", regex=False)\\\n",
    "                .str.replace(',', \"\", regex=False)\\\n",
    "                    .str.replace(\" \",\"\", regex=False)\n",
    "    \n",
    "\n",
    "filtered['Billed Amt'] = filtered.loc[:,'Billed Amt'].astype(float)\n",
    "filtered['Pay Amt'] = filtered.loc[:,'Pay Amt'].astype(float)\n",
    "\n",
    "Dnl_Raw = filtered[(filtered.loc[:,'Loc Name']!='<Unknown>') & (filtered.loc[:,'Pay Amt'] == 0.00) \n",
    "                   & (filtered.loc[:,'Rsn Cds/Remarks']!=\"NaN\") & (filtered.loc[:,'Source'] == 'Third party')]\n",
    "Dnl_Raw = Dnl_Raw.copy()\n",
    "Dnl_Raw['Post Date'] = pd.to_datetime(Dnl_Raw.loc[:,'Post Date'])\n",
    "Dnl_Raw['Dt of Svc'] = pd.to_datetime(Dnl_Raw.loc[:,'Dt of Svc'])\n",
    "\n",
    "Dnl_Raw = Dnl_Raw.copy()\n",
    "Dnl_Raw.dropna(subset=['Rsn Cds/Remarks'], inplace=True)\n",
    "Dnl_Raw[\"Index_rsn\"] = np.arange(1, len(Dnl_Raw)+1, 1)\n",
    "\n",
    "Dnl_Rsn_split=Dnl_Raw[[\"Index_rsn\",'Rsn Cds/Remarks']]\n",
    "split_columns = Dnl_Rsn_split['Rsn Cds/Remarks'].str.split(';', expand=True)\n",
    "Dnl_Rsn_split = pd.concat([Dnl_Rsn_split[['Index_rsn']], split_columns], axis=1)\n",
    "\n",
    "x=[0,1,2,3,4,5,6,7,8]\n",
    "for i in x:\n",
    "    Dnl_Rsn_split[i] = Dnl_Rsn_split[i].str.split(\" \", expand=True)[0]\n",
    "\n",
    "Dnl_Rsn_split =pd.melt(Dnl_Rsn_split,id_vars=['Index_rsn'],var_name='Rsn_code' ,value_name='Rsn' )\n",
    "Dnl_Rsn_split.dropna(subset=['Rsn'], inplace=True)\n",
    "\n",
    "cat = pd.read_excel(r\"C:\\Users\\tinku.biswas\\Downloads\\SOP USMD Fresh Denials with Major Code Logic.xlsb\", sheet_name='Denial Codes')\n",
    "cat = cat[cat['Remark(if denial Yes/No)']=='Denial']"
   ]
  },
  {
   "cell_type": "code",
   "execution_count": 50,
   "metadata": {},
   "outputs": [],
   "source": [
    "code=Dnl_Rsn_split.merge(cat[['Primary RSN Code','Remark(if denial Yes/No)']], left_on='Rsn', right_on='Primary RSN Code' )\n",
    "code['sort_indx'] = code['Rsn'].apply(lambda x: 1 if isinstance(x,str) and 'CO' in x\n",
    "                                      else 2 if isinstance(x, str) and 'OA' in x\n",
    "                                      else 3 if isinstance(x, str) and 'PI' in x\n",
    "                                      else 4 if isinstance(x, str) and 'PR' in x\n",
    "                                      else 5)\n",
    "\n",
    "code.sort_values(by=['Index_rsn','sort_indx'], inplace=True)\n",
    "code['indicator'] = code.groupby(code['Index_rsn']).cumcount()\n",
    "Major_code = code[code['indicator'] == 0]\n",
    "Dnl_wt_code = Dnl_Raw.merge(Major_code[['Index_rsn','Rsn']], how='left', left_on='Index_rsn', right_on='Index_rsn')\n",
    "Dnl_wt_code.dropna(subset=['Rsn'], inplace=True)\n",
    "Dnl_wt_code.sort_values(by = ['E/I/A/B', 'Dt of Svc', 'CPT4', 'Post Date'], inplace = True)\n",
    "Dnl_wt_code['First_denial_Ind'] = Dnl_wt_code.groupby(by=['E/I/A/B','Dt of Svc','CPT4','Post Date']).cumcount()\n",
    "Dnl_wt_code['First_denial_Ind'] = Dnl_wt_code['First_denial_Ind'].apply(lambda x: 'First time Denial' if x == 0 else 'Repeat Denial')\n",
    "Denial_final_raw = Dnl_wt_code.merge(cat[['Primary RSN Code', 'Category']], left_on='Rsn', right_on='Primary RSN Code')"
   ]
  },
  {
   "cell_type": "code",
   "execution_count": null,
   "metadata": {},
   "outputs": [],
   "source": [
    "Denial_final_raw.pivot_table(\n",
    "    index=[Denial_final_raw['Post Date'].dt.year,Denial_final_raw['Post Date'].dt.month],\n",
    "    columns=['First_denial_Ind'],\n",
    "    values=['Billed Amt','CPT4','E/I/A/B'],\n",
    "    aggfunc= {'Billed Amt':'sum','CPT4':'count','E/I/A/B':'nunique'}\n",
    "    )"
   ]
  },
  {
   "cell_type": "code",
   "execution_count": 54,
   "metadata": {},
   "outputs": [],
   "source": [
    "Denial_2024 = Denial_final_raw[(Denial_final_raw['Post Date'].dt.year==2024)\n",
    "                 &\n",
    "                 (Denial_final_raw['First_denial_Ind']=='First time Denial')]"
   ]
  },
  {
   "cell_type": "code",
   "execution_count": null,
   "metadata": {},
   "outputs": [],
   "source": [
    "Denial_2024.pivot_table(\n",
    "    columns=[Denial_2024['Post Date'].dt.month],\n",
    "    index=['Category'],\n",
    "    values=['Billed Amt'],\n",
    "    aggfunc= 'sum'\n",
    "    )"
   ]
  },
  {
   "cell_type": "code",
   "execution_count": null,
   "metadata": {},
   "outputs": [],
   "source": [
    "Denial_2024.pivot_table(\n",
    "    columns=[Denial_2024['Post Date'].dt.month],\n",
    "    index=['Category'],\n",
    "    values=['E/I/A/B'],\n",
    "    aggfunc= 'count'\n",
    "    )"
   ]
  },
  {
   "cell_type": "code",
   "execution_count": 61,
   "metadata": {},
   "outputs": [],
   "source": [
    "Denial_2024.pivot_table(\n",
    "    columns=[Denial_2024['Post Date'].dt.month],\n",
    "    index=['Prac Name', 'Loc Name'],\n",
    "    values=['Billed Amt'],\n",
    "    aggfunc= 'sum'\n",
    "    )#.to_csv(r'C:\\Users\\tinku.biswas\\Downloads\\PHMG-Den.csv')"
   ]
  },
  {
   "cell_type": "code",
   "execution_count": 60,
   "metadata": {},
   "outputs": [],
   "source": [
    "Denial_2024#.to_csv(r'C:\\Users\\tinku.biswas\\Downloads\\PHMG-Den_raw.csv')"
   ]
  }
 ],
 "metadata": {
  "kernelspec": {
   "display_name": "base",
   "language": "python",
   "name": "python3"
  },
  "language_info": {
   "codemirror_mode": {
    "name": "ipython",
    "version": 3
   },
   "file_extension": ".py",
   "mimetype": "text/x-python",
   "name": "python",
   "nbconvert_exporter": "python",
   "pygments_lexer": "ipython3",
   "version": "3.12.7"
  }
 },
 "nbformat": 4,
 "nbformat_minor": 2
}
